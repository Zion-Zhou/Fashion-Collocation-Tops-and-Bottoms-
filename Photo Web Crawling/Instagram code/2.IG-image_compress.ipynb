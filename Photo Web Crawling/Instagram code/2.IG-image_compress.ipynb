{
 "cells": [
  {
   "cell_type": "code",
   "execution_count": 1,
   "metadata": {
    "colab": {
     "base_uri": "https://localhost:8080/",
     "height": 127
    },
    "colab_type": "code",
    "executionInfo": {
     "elapsed": 78895,
     "status": "ok",
     "timestamp": 1586760704931,
     "user": {
      "displayName": "Yonglin WU",
      "photoUrl": "",
      "userId": "15518869629767667908"
     },
     "user_tz": -480
    },
    "id": "30hXcnEcP8md",
    "outputId": "fec7f15e-1f43-48ef-d6d9-87fdc58828f9"
   },
   "outputs": [
    {
     "name": "stdout",
     "output_type": "stream",
     "text": [
      "Go to this URL in a browser: https://accounts.google.com/o/oauth2/auth?client_id=947318989803-6bn6qk8qdgf4n4g3pfee6491hc0brc4i.apps.googleusercontent.com&redirect_uri=urn%3aietf%3awg%3aoauth%3a2.0%3aoob&response_type=code&scope=email%20https%3a%2f%2fwww.googleapis.com%2fauth%2fdocs.test%20https%3a%2f%2fwww.googleapis.com%2fauth%2fdrive%20https%3a%2f%2fwww.googleapis.com%2fauth%2fdrive.photos.readonly%20https%3a%2f%2fwww.googleapis.com%2fauth%2fpeopleapi.readonly\n",
      "\n",
      "Enter your authorization code:\n",
      "··········\n",
      "Mounted at /content/gdrive\n"
     ]
    }
   ],
   "source": [
    "from google.colab import drive\n",
    "drive.mount('/content/gdrive')"
   ]
  },
  {
   "cell_type": "code",
   "execution_count": 0,
   "metadata": {
    "colab": {},
    "colab_type": "code",
    "id": "BcWFAKpQP9zC"
   },
   "outputs": [],
   "source": [
    "import os\n",
    "os.chdir(\"/content/gdrive/My Drive/MSBA 7011 Group Project/data/IG\")"
   ]
  },
  {
   "cell_type": "code",
   "execution_count": 22,
   "metadata": {
    "colab": {
     "base_uri": "https://localhost:8080/",
     "height": 89
    },
    "colab_type": "code",
    "executionInfo": {
     "elapsed": 3080,
     "status": "ok",
     "timestamp": 1586773758300,
     "user": {
      "displayName": "Yonglin WU",
      "photoUrl": "",
      "userId": "15518869629767667908"
     },
     "user_tz": -480
    },
    "id": "eY0HW5GAQ0Xv",
    "outputId": "4e5fe411-68ca-4caa-90fe-b0bacaeb29e0"
   },
   "outputs": [
    {
     "name": "stdout",
     "output_type": "stream",
     "text": [
      "c-aliziazuschlag   c-ootdmagazine\t\t已爬博主.gsheet\n",
      "c-dappei_tw\t   c-outfitinspirationoftheday\t已经压缩的文件原图\n",
      "c-instalooknstyle  c-pepamack\t\t\t已经识别的压缩图\n",
      "c-ootdguide\t   fashion4perfection\n"
     ]
    }
   ],
   "source": [
    "!ls"
   ]
  },
  {
   "cell_type": "code",
   "execution_count": 0,
   "metadata": {
    "colab": {
     "base_uri": "https://localhost:8080/",
     "height": 35
    },
    "colab_type": "code",
    "executionInfo": {
     "elapsed": 5335,
     "status": "ok",
     "timestamp": 1586692713455,
     "user": {
      "displayName": "Yonglin WU",
      "photoUrl": "",
      "userId": "15518869629767667908"
     },
     "user_tz": -480
    },
    "id": "2IWWGLZ_Pu-i",
    "outputId": "8ab986ff-ef34-48d8-9c6d-871cedce5a59"
   },
   "outputs": [
    {
     "name": "stdout",
     "output_type": "stream",
     "text": [
      "Requirement already satisfied: pillow in /usr/local/lib/python3.6/dist-packages (7.0.0)\n"
     ]
    }
   ],
   "source": [
    "# !pip install pillow"
   ]
  },
  {
   "cell_type": "code",
   "execution_count": 0,
   "metadata": {
    "colab": {},
    "colab_type": "code",
    "id": "bcRFN-qhhl_6"
   },
   "outputs": [],
   "source": [
    "from tqdm import tqdm\n",
    "from PIL import Image\n",
    "import os,shutil"
   ]
  },
  {
   "cell_type": "code",
   "execution_count": 0,
   "metadata": {
    "colab": {},
    "colab_type": "code",
    "id": "18eBAwZHP0rp"
   },
   "outputs": [],
   "source": [
    "def compressImage(srcPath,dstPath):\n",
    "    for filename in os.listdir(srcPath):\n",
    "        if not os.path.exists(dstPath):\n",
    "                os.makedirs(dstPath)\n",
    " \n",
    "        srcFile=os.path.join(srcPath,filename)\n",
    "        dstFile=os.path.join(dstPath,filename)\n",
    " \n",
    "        if os.path.isfile(srcFile):\n",
    "            try:\n",
    "                sImg=Image.open(srcFile)\n",
    "                w,h=sImg.size\n",
    "\n",
    "                # set the new width, height is set accordingly\n",
    "                w_new = 400\n",
    "                h_new = w_new * h/w\n",
    "                dImg=sImg.resize( (int(w_new), int(h_new)), Image.ANTIALIAS) # size is customized\n",
    "\n",
    "                dImg.save(dstFile) \n",
    "            except Exception:\n",
    "                print(dstFile+\"failed\")\n",
    " \n",
    "        if os.path.isdir(srcFile):\n",
    "            compressImage(srcFile, dstFile)\n",
    "    print(\"Compress finished.\")\n"
   ]
  },
  {
   "cell_type": "code",
   "execution_count": 23,
   "metadata": {
    "colab": {
     "base_uri": "https://localhost:8080/",
     "height": 35
    },
    "colab_type": "code",
    "executionInfo": {
     "elapsed": 7826762,
     "status": "ok",
     "timestamp": 1586781598509,
     "user": {
      "displayName": "Yonglin WU",
      "photoUrl": "",
      "userId": "15518869629767667908"
     },
     "user_tz": -480
    },
    "id": "dgGBvDFpQFxK",
    "outputId": "51176465-d7b8-4110-ac79-e10672e9444e"
   },
   "outputs": [
    {
     "name": "stdout",
     "output_type": "stream",
     "text": [
      "Compress finished.\n"
     ]
    }
   ],
   "source": [
    "compressImage(\"./fashion4perfection\",\"./c-fashion4perfection\") # prepare folder is where you put the image and the code will put all the compressed image in the compress folder"
   ]
  }
 ],
 "metadata": {
  "colab": {
   "authorship_tag": "ABX9TyMDzL03MKdt3Z463f6K+SZW",
   "collapsed_sections": [],
   "name": "2.IG-image_compress.ipynb",
   "provenance": []
  },
  "kernelspec": {
   "display_name": "Python 3",
   "language": "python",
   "name": "python3"
  },
  "language_info": {
   "codemirror_mode": {
    "name": "ipython",
    "version": 3
   },
   "file_extension": ".py",
   "mimetype": "text/x-python",
   "name": "python",
   "nbconvert_exporter": "python",
   "pygments_lexer": "ipython3",
   "version": "3.7.4"
  },
  "toc": {
   "base_numbering": 1,
   "nav_menu": {},
   "number_sections": true,
   "sideBar": true,
   "skip_h1_title": false,
   "title_cell": "Table of Contents",
   "title_sidebar": "Contents",
   "toc_cell": false,
   "toc_position": {},
   "toc_section_display": true,
   "toc_window_display": false
  }
 },
 "nbformat": 4,
 "nbformat_minor": 1
}
